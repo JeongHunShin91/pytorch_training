{
  "nbformat": 4,
  "nbformat_minor": 0,
  "metadata": {
    "colab": {
      "provenance": [],
      "authorship_tag": "ABX9TyO6p/xUVJmzHQZy5oJWYASh",
      "include_colab_link": true
    },
    "kernelspec": {
      "name": "python3",
      "display_name": "Python 3"
    },
    "language_info": {
      "name": "python"
    }
  },
  "cells": [
    {
      "cell_type": "markdown",
      "metadata": {
        "id": "view-in-github",
        "colab_type": "text"
      },
      "source": [
        "<a href=\"https://colab.research.google.com/github/JeongHunShin91/pytorch_training/blob/main/T1_24_Time_Series5_(Lagged_Feature)_%EC%8B%9C%EC%B0%A8_%EB%8D%B0%EC%9D%B4%ED%84%B0_%EC%83%9D%EC%84%B1.ipynb\" target=\"_parent\"><img src=\"https://colab.research.google.com/assets/colab-badge.svg\" alt=\"Open In Colab\"/></a>"
      ]
    },
    {
      "cell_type": "code",
      "execution_count": null,
      "metadata": {
        "id": "PNrZl4GjL39Y"
      },
      "outputs": [],
      "source": [
        "주어진 데이터(basic2.csv)에서 \"pv\"컬럼으로 1일 시차(lag)가 있는 새로운 컬럼을 만들고(예: 1월 2일에는 1월 1일 pv데이터를 넣고, 1월 3일에는 1월 2일 pv데이터를 넣음),새로운 컬럼의 1월 1일은 다음날(1월 2일)데이터로 결측치를 채운 다음, Events가 1이면서 Sales가 1000000이하인 조건에 맞는 새로운 컬럼 합을 구하시오\n",
        "데이터셋 : basic2.csv"
      ]
    },
    {
      "cell_type": "code",
      "source": [
        "import pandas as pd\n",
        "df = pd.read_csv(\"../input/bigdatacertificationkr/basic2.csv\")\n",
        "df[\"Date\"] = pd.to_datetime(df[\"Date\"])\n",
        "df[\"PV1\"] = df[\"PV\"].shift(1)\n",
        "df = df.fillna(method = \"bfill\")\n",
        "df[(df[\"Events\"]==1)&(df[\"Sales\"]<1000000)][\"PV1\"].sum()"
      ],
      "metadata": {
        "id": "3rLO5WW3L50b"
      },
      "execution_count": null,
      "outputs": []
    }
  ]
}