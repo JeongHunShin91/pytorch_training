{
  "nbformat": 4,
  "nbformat_minor": 0,
  "metadata": {
    "colab": {
      "provenance": [],
      "authorship_tag": "ABX9TyObisc8pSXLKwpxkKXG8V8d",
      "include_colab_link": true
    },
    "kernelspec": {
      "name": "python3",
      "display_name": "Python 3"
    },
    "language_info": {
      "name": "python"
    }
  },
  "cells": [
    {
      "cell_type": "markdown",
      "metadata": {
        "id": "view-in-github",
        "colab_type": "text"
      },
      "source": [
        "<a href=\"https://colab.research.google.com/github/JeongHunShin91/pytorch_training/blob/main/RNN_%EB%AC%B8%EC%9E%90%EB%8B%A8%EC%9C%84.ipynb\" target=\"_parent\"><img src=\"https://colab.research.google.com/assets/colab-badge.svg\" alt=\"Open In Colab\"/></a>"
      ]
    },
    {
      "cell_type": "code",
      "execution_count": 11,
      "metadata": {
        "id": "1kwqRF9cXZ1A"
      },
      "outputs": [],
      "source": [
        "import torch\n",
        "import torch.nn as nn\n",
        "import torch.optim as optim\n",
        "import numpy as np"
      ]
    },
    {
      "cell_type": "code",
      "source": [
        "sentence = (\"if you want to build a ship, don't drum up people together to \"\n",
        "            \"collect wood and don't assign them tasks and work, but rather \"\n",
        "            \"teach them to long for the endless immensity of the sea.\")"
      ],
      "metadata": {
        "id": "fXvZ2TnX-nz9"
      },
      "execution_count": 2,
      "outputs": []
    },
    {
      "cell_type": "code",
      "source": [
        "char_set = list(set(sentence)) # 중복을 제거한 문자 집합 생성\n",
        "char_dic = {c: i for i, c in enumerate(char_set)} # 각 문자에 정수 인코딩\n",
        "print(char_dic) # 공백도 여기서는 하나의 원소"
      ],
      "metadata": {
        "colab": {
          "base_uri": "https://localhost:8080/"
        },
        "id": "YeYiVR_x-n4e",
        "outputId": "48fd5331-1450-446d-f3f6-1e9be52720c1"
      },
      "execution_count": 3,
      "outputs": [
        {
          "output_type": "stream",
          "name": "stdout",
          "text": [
            "{'n': 0, 'r': 1, 'c': 2, 'e': 3, 'o': 4, 'l': 5, 'g': 6, 'k': 7, 'h': 8, 'm': 9, 'd': 10, 'f': 11, 'p': 12, \"'\": 13, 'y': 14, 'w': 15, 't': 16, '.': 17, ' ': 18, 'a': 19, 'u': 20, 's': 21, 'b': 22, ',': 23, 'i': 24}\n"
          ]
        }
      ]
    },
    {
      "cell_type": "code",
      "source": [
        "dic_size = len(char_dic)\n",
        "print('문자 집합의 크기 : {}'.format(dic_size))"
      ],
      "metadata": {
        "colab": {
          "base_uri": "https://localhost:8080/"
        },
        "id": "VS-bm7iW-n8X",
        "outputId": "e12960f4-df8a-4ffc-bf10-49fc93833b8d"
      },
      "execution_count": 4,
      "outputs": [
        {
          "output_type": "stream",
          "name": "stdout",
          "text": [
            "문자 집합의 크기 : 25\n"
          ]
        }
      ]
    },
    {
      "cell_type": "code",
      "source": [
        "# 하이퍼파라미터 설정\n",
        "hidden_size = dic_size\n",
        "sequence_length = 10  # 임의 숫자 지정\n",
        "learning_rate = 0.1"
      ],
      "metadata": {
        "id": "2SPN9n4B-n_z"
      },
      "execution_count": 5,
      "outputs": []
    },
    {
      "cell_type": "code",
      "source": [
        "# 데이터 구성\n",
        "x_data = []\n",
        "y_data = []\n",
        "\n",
        "for i in range(0, len(sentence) - sequence_length):\n",
        "    x_str = sentence[i:i + sequence_length]\n",
        "    y_str = sentence[i + 1: i + sequence_length + 1]\n",
        "    print(i, x_str, '->', y_str)\n",
        "\n",
        "    x_data.append([char_dic[c] for c in x_str])  # x str to index\n",
        "    y_data.append([char_dic[c] for c in y_str])  # y str to index"
      ],
      "metadata": {
        "colab": {
          "base_uri": "https://localhost:8080/"
        },
        "id": "5BXLO8V8-oC3",
        "outputId": "7679e37b-f361-48b4-9b16-cdae4817518f"
      },
      "execution_count": 6,
      "outputs": [
        {
          "output_type": "stream",
          "name": "stdout",
          "text": [
            "0 if you wan -> f you want\n",
            "1 f you want ->  you want \n",
            "2  you want  -> you want t\n",
            "3 you want t -> ou want to\n",
            "4 ou want to -> u want to \n",
            "5 u want to  ->  want to b\n",
            "6  want to b -> want to bu\n",
            "7 want to bu -> ant to bui\n",
            "8 ant to bui -> nt to buil\n",
            "9 nt to buil -> t to build\n",
            "10 t to build ->  to build \n",
            "11  to build  -> to build a\n",
            "12 to build a -> o build a \n",
            "13 o build a  ->  build a s\n",
            "14  build a s -> build a sh\n",
            "15 build a sh -> uild a shi\n",
            "16 uild a shi -> ild a ship\n",
            "17 ild a ship -> ld a ship,\n",
            "18 ld a ship, -> d a ship, \n",
            "19 d a ship,  ->  a ship, d\n",
            "20  a ship, d -> a ship, do\n",
            "21 a ship, do ->  ship, don\n",
            "22  ship, don -> ship, don'\n",
            "23 ship, don' -> hip, don't\n",
            "24 hip, don't -> ip, don't \n",
            "25 ip, don't  -> p, don't d\n",
            "26 p, don't d -> , don't dr\n",
            "27 , don't dr ->  don't dru\n",
            "28  don't dru -> don't drum\n",
            "29 don't drum -> on't drum \n",
            "30 on't drum  -> n't drum u\n",
            "31 n't drum u -> 't drum up\n",
            "32 't drum up -> t drum up \n",
            "33 t drum up  ->  drum up p\n",
            "34  drum up p -> drum up pe\n",
            "35 drum up pe -> rum up peo\n",
            "36 rum up peo -> um up peop\n",
            "37 um up peop -> m up peopl\n",
            "38 m up peopl ->  up people\n",
            "39  up people -> up people \n",
            "40 up people  -> p people t\n",
            "41 p people t ->  people to\n",
            "42  people to -> people tog\n",
            "43 people tog -> eople toge\n",
            "44 eople toge -> ople toget\n",
            "45 ople toget -> ple togeth\n",
            "46 ple togeth -> le togethe\n",
            "47 le togethe -> e together\n",
            "48 e together ->  together \n",
            "49  together  -> together t\n",
            "50 together t -> ogether to\n",
            "51 ogether to -> gether to \n",
            "52 gether to  -> ether to c\n",
            "53 ether to c -> ther to co\n",
            "54 ther to co -> her to col\n",
            "55 her to col -> er to coll\n",
            "56 er to coll -> r to colle\n",
            "57 r to colle ->  to collec\n",
            "58  to collec -> to collect\n",
            "59 to collect -> o collect \n",
            "60 o collect  ->  collect w\n",
            "61  collect w -> collect wo\n",
            "62 collect wo -> ollect woo\n",
            "63 ollect woo -> llect wood\n",
            "64 llect wood -> lect wood \n",
            "65 lect wood  -> ect wood a\n",
            "66 ect wood a -> ct wood an\n",
            "67 ct wood an -> t wood and\n",
            "68 t wood and ->  wood and \n",
            "69  wood and  -> wood and d\n",
            "70 wood and d -> ood and do\n",
            "71 ood and do -> od and don\n",
            "72 od and don -> d and don'\n",
            "73 d and don' ->  and don't\n",
            "74  and don't -> and don't \n",
            "75 and don't  -> nd don't a\n",
            "76 nd don't a -> d don't as\n",
            "77 d don't as ->  don't ass\n",
            "78  don't ass -> don't assi\n",
            "79 don't assi -> on't assig\n",
            "80 on't assig -> n't assign\n",
            "81 n't assign -> 't assign \n",
            "82 't assign  -> t assign t\n",
            "83 t assign t ->  assign th\n",
            "84  assign th -> assign the\n",
            "85 assign the -> ssign them\n",
            "86 ssign them -> sign them \n",
            "87 sign them  -> ign them t\n",
            "88 ign them t -> gn them ta\n",
            "89 gn them ta -> n them tas\n",
            "90 n them tas ->  them task\n",
            "91  them task -> them tasks\n",
            "92 them tasks -> hem tasks \n",
            "93 hem tasks  -> em tasks a\n",
            "94 em tasks a -> m tasks an\n",
            "95 m tasks an ->  tasks and\n",
            "96  tasks and -> tasks and \n",
            "97 tasks and  -> asks and w\n",
            "98 asks and w -> sks and wo\n",
            "99 sks and wo -> ks and wor\n",
            "100 ks and wor -> s and work\n",
            "101 s and work ->  and work,\n",
            "102  and work, -> and work, \n",
            "103 and work,  -> nd work, b\n",
            "104 nd work, b -> d work, bu\n",
            "105 d work, bu ->  work, but\n",
            "106  work, but -> work, but \n",
            "107 work, but  -> ork, but r\n",
            "108 ork, but r -> rk, but ra\n",
            "109 rk, but ra -> k, but rat\n",
            "110 k, but rat -> , but rath\n",
            "111 , but rath ->  but rathe\n",
            "112  but rathe -> but rather\n",
            "113 but rather -> ut rather \n",
            "114 ut rather  -> t rather t\n",
            "115 t rather t ->  rather te\n",
            "116  rather te -> rather tea\n",
            "117 rather tea -> ather teac\n",
            "118 ather teac -> ther teach\n",
            "119 ther teach -> her teach \n",
            "120 her teach  -> er teach t\n",
            "121 er teach t -> r teach th\n",
            "122 r teach th ->  teach the\n",
            "123  teach the -> teach them\n",
            "124 teach them -> each them \n",
            "125 each them  -> ach them t\n",
            "126 ach them t -> ch them to\n",
            "127 ch them to -> h them to \n",
            "128 h them to  ->  them to l\n",
            "129  them to l -> them to lo\n",
            "130 them to lo -> hem to lon\n",
            "131 hem to lon -> em to long\n",
            "132 em to long -> m to long \n",
            "133 m to long  ->  to long f\n",
            "134  to long f -> to long fo\n",
            "135 to long fo -> o long for\n",
            "136 o long for ->  long for \n",
            "137  long for  -> long for t\n",
            "138 long for t -> ong for th\n",
            "139 ong for th -> ng for the\n",
            "140 ng for the -> g for the \n",
            "141 g for the  ->  for the e\n",
            "142  for the e -> for the en\n",
            "143 for the en -> or the end\n",
            "144 or the end -> r the endl\n",
            "145 r the endl ->  the endle\n",
            "146  the endle -> the endles\n",
            "147 the endles -> he endless\n",
            "148 he endless -> e endless \n",
            "149 e endless  ->  endless i\n",
            "150  endless i -> endless im\n",
            "151 endless im -> ndless imm\n",
            "152 ndless imm -> dless imme\n",
            "153 dless imme -> less immen\n",
            "154 less immen -> ess immens\n",
            "155 ess immens -> ss immensi\n",
            "156 ss immensi -> s immensit\n",
            "157 s immensit ->  immensity\n",
            "158  immensity -> immensity \n",
            "159 immensity  -> mmensity o\n",
            "160 mmensity o -> mensity of\n",
            "161 mensity of -> ensity of \n",
            "162 ensity of  -> nsity of t\n",
            "163 nsity of t -> sity of th\n",
            "164 sity of th -> ity of the\n",
            "165 ity of the -> ty of the \n",
            "166 ty of the  -> y of the s\n",
            "167 y of the s ->  of the se\n",
            "168  of the se -> of the sea\n",
            "169 of the sea -> f the sea.\n"
          ]
        }
      ]
    },
    {
      "cell_type": "code",
      "source": [
        "print(x_data[0])\n",
        "print(y_data[0])"
      ],
      "metadata": {
        "colab": {
          "base_uri": "https://localhost:8080/"
        },
        "id": "wngdPk0W-oFv",
        "outputId": "d22d94b2-1a19-43e7-c9d0-78e95b2b53ff"
      },
      "execution_count": 7,
      "outputs": [
        {
          "output_type": "stream",
          "name": "stdout",
          "text": [
            "[24, 11, 18, 14, 4, 20, 18, 15, 19, 0]\n",
            "[11, 18, 14, 4, 20, 18, 15, 19, 0, 16]\n"
          ]
        }
      ]
    },
    {
      "cell_type": "code",
      "source": [
        "x_one_hot = [np.eye(dic_size)[x] for x in x_data] # x 데이터는 원-핫 인코딩\n",
        "X = torch.FloatTensor(x_one_hot)\n",
        "Y = torch.LongTensor(y_data)"
      ],
      "metadata": {
        "colab": {
          "base_uri": "https://localhost:8080/"
        },
        "id": "zH-_B2J6-oIm",
        "outputId": "01931c5e-9e38-4604-8f07-6f03040b0495"
      },
      "execution_count": 12,
      "outputs": [
        {
          "output_type": "stream",
          "name": "stderr",
          "text": [
            "/usr/local/lib/python3.7/dist-packages/ipykernel_launcher.py:2: UserWarning: Creating a tensor from a list of numpy.ndarrays is extremely slow. Please consider converting the list to a single numpy.ndarray with numpy.array() before converting to a tensor. (Triggered internally at  ../torch/csrc/utils/tensor_new.cpp:201.)\n",
            "  \n"
          ]
        }
      ]
    },
    {
      "cell_type": "code",
      "source": [
        "print('훈련 데이터의 크기 : {}'.format(X.shape))\n",
        "print('레이블의 크기 : {}'.format(Y.shape))"
      ],
      "metadata": {
        "colab": {
          "base_uri": "https://localhost:8080/"
        },
        "id": "oFJjNDeV-oLX",
        "outputId": "cc7bb262-8b56-4045-c327-c1b6cab7dc04"
      },
      "execution_count": 13,
      "outputs": [
        {
          "output_type": "stream",
          "name": "stdout",
          "text": [
            "훈련 데이터의 크기 : torch.Size([170, 10, 25])\n",
            "레이블의 크기 : torch.Size([170, 10])\n"
          ]
        }
      ]
    },
    {
      "cell_type": "code",
      "source": [
        "print(X[0])"
      ],
      "metadata": {
        "colab": {
          "base_uri": "https://localhost:8080/"
        },
        "id": "_P5nz_ax-oN9",
        "outputId": "7d83eff9-55e3-4c01-c369-19e279ba337d"
      },
      "execution_count": 14,
      "outputs": [
        {
          "output_type": "stream",
          "name": "stdout",
          "text": [
            "tensor([[0., 0., 0., 0., 0., 0., 0., 0., 0., 0., 0., 0., 0., 0., 0., 0., 0., 0.,\n",
            "         0., 0., 0., 0., 0., 0., 1.],\n",
            "        [0., 0., 0., 0., 0., 0., 0., 0., 0., 0., 0., 1., 0., 0., 0., 0., 0., 0.,\n",
            "         0., 0., 0., 0., 0., 0., 0.],\n",
            "        [0., 0., 0., 0., 0., 0., 0., 0., 0., 0., 0., 0., 0., 0., 0., 0., 0., 0.,\n",
            "         1., 0., 0., 0., 0., 0., 0.],\n",
            "        [0., 0., 0., 0., 0., 0., 0., 0., 0., 0., 0., 0., 0., 0., 1., 0., 0., 0.,\n",
            "         0., 0., 0., 0., 0., 0., 0.],\n",
            "        [0., 0., 0., 0., 1., 0., 0., 0., 0., 0., 0., 0., 0., 0., 0., 0., 0., 0.,\n",
            "         0., 0., 0., 0., 0., 0., 0.],\n",
            "        [0., 0., 0., 0., 0., 0., 0., 0., 0., 0., 0., 0., 0., 0., 0., 0., 0., 0.,\n",
            "         0., 0., 1., 0., 0., 0., 0.],\n",
            "        [0., 0., 0., 0., 0., 0., 0., 0., 0., 0., 0., 0., 0., 0., 0., 0., 0., 0.,\n",
            "         1., 0., 0., 0., 0., 0., 0.],\n",
            "        [0., 0., 0., 0., 0., 0., 0., 0., 0., 0., 0., 0., 0., 0., 0., 1., 0., 0.,\n",
            "         0., 0., 0., 0., 0., 0., 0.],\n",
            "        [0., 0., 0., 0., 0., 0., 0., 0., 0., 0., 0., 0., 0., 0., 0., 0., 0., 0.,\n",
            "         0., 1., 0., 0., 0., 0., 0.],\n",
            "        [1., 0., 0., 0., 0., 0., 0., 0., 0., 0., 0., 0., 0., 0., 0., 0., 0., 0.,\n",
            "         0., 0., 0., 0., 0., 0., 0.]])\n"
          ]
        }
      ]
    },
    {
      "cell_type": "code",
      "source": [
        "print(Y[0])"
      ],
      "metadata": {
        "colab": {
          "base_uri": "https://localhost:8080/"
        },
        "id": "8dLv3CTI-oQm",
        "outputId": "a4e67719-ba0e-4fa9-9337-271a2cd8f1d8"
      },
      "execution_count": 15,
      "outputs": [
        {
          "output_type": "stream",
          "name": "stdout",
          "text": [
            "tensor([11, 18, 14,  4, 20, 18, 15, 19,  0, 16])\n"
          ]
        }
      ]
    },
    {
      "cell_type": "code",
      "source": [
        "class Net(torch.nn.Module):\n",
        "    def __init__(self, input_dim, hidden_dim, layers): # 현재 hidden_size는 dic_size와 같음.\n",
        "        super(Net, self).__init__()\n",
        "        self.rnn = torch.nn.RNN(input_dim, hidden_dim, num_layers=layers, batch_first=True)\n",
        "        self.fc = torch.nn.Linear(hidden_dim, hidden_dim, bias=True)\n",
        "\n",
        "    def forward(self, x):\n",
        "        x, _status = self.rnn(x)\n",
        "        x = self.fc(x)\n",
        "        return x"
      ],
      "metadata": {
        "id": "W-Hd0P1a-oTQ"
      },
      "execution_count": 17,
      "outputs": []
    },
    {
      "cell_type": "code",
      "source": [
        "net = Net(dic_size, hidden_size, 2) # 이번에는 층을 두 개 쌓습니다."
      ],
      "metadata": {
        "id": "i1aR5QNi-oV9"
      },
      "execution_count": 18,
      "outputs": []
    },
    {
      "cell_type": "code",
      "source": [
        "criterion = torch.nn.CrossEntropyLoss()\n",
        "optimizer = optim.Adam(net.parameters(), learning_rate)"
      ],
      "metadata": {
        "id": "7HF5gEI_-oY2"
      },
      "execution_count": 19,
      "outputs": []
    },
    {
      "cell_type": "code",
      "source": [
        "outputs = net(X)\n",
        "print(outputs.shape) # 3차원 텐서"
      ],
      "metadata": {
        "colab": {
          "base_uri": "https://localhost:8080/"
        },
        "id": "S_aqurNW-obX",
        "outputId": "bb2b9788-1ab9-4de8-c42c-93178941bda3"
      },
      "execution_count": 20,
      "outputs": [
        {
          "output_type": "stream",
          "name": "stdout",
          "text": [
            "torch.Size([170, 10, 25])\n"
          ]
        }
      ]
    },
    {
      "cell_type": "code",
      "source": [
        "print(outputs.view(-1, dic_size).shape) # 2차원 텐서로 변환."
      ],
      "metadata": {
        "colab": {
          "base_uri": "https://localhost:8080/"
        },
        "id": "woJJrDinAYvp",
        "outputId": "3a29664a-c43c-40c7-9ab8-1702ae152569"
      },
      "execution_count": 21,
      "outputs": [
        {
          "output_type": "stream",
          "name": "stdout",
          "text": [
            "torch.Size([1700, 25])\n"
          ]
        }
      ]
    },
    {
      "cell_type": "code",
      "source": [
        "print(Y.shape)\n",
        "print(Y.view(-1).shape)"
      ],
      "metadata": {
        "colab": {
          "base_uri": "https://localhost:8080/"
        },
        "id": "FYQl4Ob6AY0m",
        "outputId": "a9e0cae2-4086-4ca0-a04e-346f88b35a6c"
      },
      "execution_count": 22,
      "outputs": [
        {
          "output_type": "stream",
          "name": "stdout",
          "text": [
            "torch.Size([170, 10])\n",
            "torch.Size([1700])\n"
          ]
        }
      ]
    },
    {
      "cell_type": "code",
      "source": [
        "for i in range(100):\n",
        "    optimizer.zero_grad()\n",
        "    outputs = net(X) # (170, 10, 25) 크기를 가진 텐서를 매 에포크마다 모델의 입력으로 사용\n",
        "    loss = criterion(outputs.view(-1, dic_size), Y.view(-1))\n",
        "    loss.backward()\n",
        "    optimizer.step()\n",
        "\n",
        "    # results의 텐서 크기는 (170, 10)\n",
        "    results = outputs.argmax(dim=2)\n",
        "    predict_str = \"\"\n",
        "    for j, result in enumerate(results):\n",
        "        if j == 0: # 처음에는 예측 결과를 전부 가져오지만\n",
        "            predict_str += ''.join([char_set[t] for t in result])\n",
        "        else: # 그 다음에는 마지막 글자만 반복 추가\n",
        "            predict_str += char_set[result[-1]]\n",
        "\n",
        "    print(predict_str)"
      ],
      "metadata": {
        "colab": {
          "base_uri": "https://localhost:8080/"
        },
        "id": "7dFOHgHMAY5F",
        "outputId": "26d61ac3-8d12-49fe-829b-3c49b1e1329e"
      },
      "execution_count": 23,
      "outputs": [
        {
          "output_type": "stream",
          "name": "stdout",
          "text": [
            "'''''''''k''''''''ky'''''''''y'''''y'''''''''''''''''''''''''''''''''''''''''y'y''''''''''kyy''''y'''k'''y'''''''''''''''''''''''''''''y'''''''''''''''''''''''''''e'''''''''''''''\n",
            "ouuuuuuuuuuuuuuuuuuuuououuuuuuuuuuuuuuuuuuuuuuuuuuuuuuuuuuuuuuuuuuuuuuuuuuuuuuuuuuuuuuuuuuuuuuuuuuuuuouuuuuouuuuuuuuuuuuuuuuuuuuuuuuuuuuuuuuuuuuuuuuuuuuuuuuuuuuuuuuuuuuuuuuuuuuuuu\n",
            "       sls a        slsls s sls s s s s  l ln   s      l      nls s  sa   sll sl  s slsls sl l   ssl lsls sls s s s   s s    l sls s   slsn s s     s s   snsss   s   s s    ls sl \n",
            "                                                                                                                                                                                   \n",
            "ttttttttttttttttttttttttetetttttttttttettetttttttttttttttttttttttttttttttttttttttttttttttttttttettttttttetttttttttttttttttettttttttttettttttttttttttttttetetttttttttttttttttttttttt\n",
            "tmrmmmrmrmmmmmmmmmmmmmmrmrmrmrmrmmmmmrmmmmmmmmmmmmmmmmmmrmrmmmmmrmmmmmmmmmrmmmmmmmmmmmmmmmmmmmmmmmmmrmmmmrmmmmmmmmmmmmmmmmmmmmmmmrmmmmmmmmrmmmmmmmmmmmmrmmmrmrmrmrmrmmmrmmmmmmmmmmm\n",
            " s   s  ss s  s   s s   s   s     s s  s ss   ss s  s  s s  ss  es s s s  s   s ss  s s   ss s ss ss ss   s  ss s   s s s s  ss s  s ss  s  s s sss s s   s s s    ss   s s  s s s \n",
            "                                                                                                                                                                                   \n",
            "                                                                                                                                                                                   \n",
            "                             o                                o                                            o             o                                 o                       \n",
            "           t  t                               t        t      o                                                     t            t t                                               \n",
            "  t   to   t  t                   t s  t      t     t  t     to  t t t    t t t  t  t s t  tnt  t t t t   t   t t   t    o t t  t  t st       t   t t s  u    t      t  tn   t s   \n",
            "  t   tost t sto os sos sps sost  t spst so ost  t s ost st  tn t  t to  st sp  sto t s o  tnsost     sospoo tont   t s sosp    tont st  to t t  tt t sosp  s sos  s o  tn tnt s s \n",
            "o to  to t to to tsosososo  do  o eo t tost o t o o eo eo to to t    eo    o  to to eoslo  toeo to     o lto eo eo  to oso to  o  oeo to to   to eo eoso leo  eo  o lo  t  toeo o  \n",
            "  e  ldo   t  t  te eoeoepd do et e ep t etdo t  eo e  e et  to e  t eo   eo tdo tt e eld  t eo t e eoeo tdo et e   d e eo t l  tt e  t  e  e do et eoeo tdo tet t  e  etoet eoeo t\n",
            "t e   to   do to ee eoe epd do  t eo p eo t o e  e  eo eo t  eo e    eo   do ldo et eo ldoetheo t   doeo ldo et et  d   eo t  loet eo th t  e do et eo o leo  do et lthethetheoeo t\n",
            "t e   do   do e     e e ep  en  t e  p ep t   e  l  l  l  t  eo e    et   t   do  t e  ld et e  th    en ldo et e   e   eo th    t e  th e    do lt e e  ldo  dp l  lthet  the e   \n",
            "t e   eo   e  t   e e e ep  e   t e ep ep t   e  e     e  t  eo e    et   t   do  the   t  the  th  e e   do et e   e   eoet    et e  th e     o  t e e   eo  ep  t lt et  the e   \n",
            "toet tdo   to tt te toe ep  eo ttheo p tp t o te th et et th to ee t et   to ldo ttheo lto toet th t oeo pto et et  e toet th toethet th t  eeto itheteo peo ltp  t ltoet etheteo t\n",
            "to m pdo   to bt ie eod ep  eo it eo p bp pdo ke bo lt eo th to ee t et   t  lto it eo lt ithep th  d epdlto it em  el  ep th  o thep th be  ito ithepdp ldo ldp it lt et  thepdo l\n",
            "to o  to   to to  e eo oep  to  t eo p eo mdo ee to  o eo th to ee t eo   t   to  t eo  t  to   th    do  to  t t   e   eo th  o t eo th to   to  theo o  do  dp  t  t et  theo o  \n",
            "toeo  do t to to  e eoeoept to et eo p toeteo ee to eo eo th to ee t eo   tod to et eo  t ethe  th  s eod to  t t   e toeo th eoetheo th te e to  theoeod e e ep ltsltoeth theoeo t\n",
            "toem  do s to ets d dod elt to ethe  p tpdtdo ee to et emsth to eegt et   tod to ethe slt ethemdto lt dod to 't t t e toemdth eo them to 'e eeto  themdod d d ep ltslt eth themdose\n",
            "moem  do   to tm  d dod ept to ltheo p tpdpdo ee to lt em th to ee t to   tod to lther lt  them to lt eod to  t tmn d toem th to them to le e to  themtod e d dp  tdlto th themto  \n",
            "mn on do t to t   e dodoeme do lt eo m tpdteo le to  t e  th to ee t eo   dod do lt eo  ts ther to  s dod do  t e   d toeo th tn ther to le d to  the dod e s dp  tslt  th therdo  \n",
            "mneon do t to trn e eoeoem, to lt eo m tpdteo le to  t eo th to le t to   tod to lt eos ts ther to  e dod to  t t n e toeo th ts ther th te t to  theoeod e e ep  ts t  t  therdo  \n",
            "mneon do t t  lun e l doem, to 't e  m tpdpeo le lo  t e  t  lo le t lo   tod to 't e s ts the  ths , d d to lt t d e toe  t  ts t e  th le t ton the dnd e e ep  ts t et  the dos \n",
            "mnepn do t to lpn e dndoem, won't e  m tpdpeo 'e to lthep th lo be t bo   tnd won't e s ts them ths e snd wo l, bpn e toep th to them th lo t ton themdnd e s ep lts thet  themeoit\n",
            "moeon so t to bpn e dodoem, don't e  t tpdpeon'e to  the  th lo be t to d wod don't ens ts them th  s sod do  , bpn e toeo th to them th be t ton themeod e s ep  ts theth themeost\n",
            "moaon do t to 'u  e dndoem, don't a  t tpdpeon'e to  the  th lo be t to d dod don't ans th them tos s dod do  , t n d the  th to ther to 'o t ton the eod e s ep  ts th th themeost\n",
            "moaon do t to 'u  e bndoem, don't en t tpdpeon'e to  then th eo bent to d dnd eo 't ens ts ther tos e end do  t t n d then th to ther to 'o t ton therend ens tp  ts thet  thereosn\n",
            "moaon do t to  u  d bndoem, do 't e  t tpdpeos'e to  ther th eo be t to d dnd do 't ens ts them tos s snd do  t but d ther th th ther to  e d ton thersod ens dm  ts th t  thersost\n",
            "moeon dont to 'u  d dndoem, ton't ar m tpdpeon'erto  ther th to bent to d dnd don't ans th them ths s snd do  t tuthd ther th th ther th 'ond ton therend ens em  ts th t  themehst\n",
            "m eon dont bo bu  d dndoem, won't ar m bpepeon'erto  ther th lo bert bond dnd don't ens th ther bo ks snd don t aut e ther th th ther to bend ton toerend ens ep ens th t  there st\n",
            "m don sont wo bu  d wnsoep, won't ar m tpepeon'eito  ther th lo lert tond dnd don't ans th ther tos s snd don t but a ther th th ther th bo t ton toerend ens ep  ts th t  there st\n",
            "p ton son' to 'u ld wndhep, ton't ar m bplpeon'eito  ther th lo lert ton' wnd won't ans tn them tosks and donlt tun d ther th th ther th lond ton therend ens ip  ns th t  there st\n",
            "p son son' wo bunld wndhep, won't ar m tpepeon'eito  ther th ao leit wond wnd won't ans tn them tosks snd wonlt tut d ther th th them to bend ton themend ens ip  cs th th themeeit\n",
            "p son sont wo bunld dnshep, won't ar m bpepeonleiton ther th bo lect dond dnd won't ans th them tosks and won t bun d them th th them to bond ton themend ess cp ets th tf themeest\n",
            "p eon dond do lu ld dndhep, don't er m bpepeon'eito ether th ao leit do d dnd do 't ens th them tosks dnd do  t bu  d them th th them to lend ton themend ess cp ets th ty themeest\n",
            "p ton sont tonbugld wnsoep, won't ar m bpepeonbeiton ther th to lent tond wnd won't ans fndthem tosks tnd wonlt but d them thath them to bond ton toemend ens wp ets th tf themehst\n",
            "p eon wo t bo bu ld wnsoep, wo 't ar m bpepeon'eito ethem th ao leit bond wnd wo 't ans fh them tosks and wo kt bug d ther th th them to bosd ton themeod ess im ets th th themekst\n",
            "p ton wond to lutld dndhep, ton't ar m bpepeon'ento  ther t  co lent tond dnd don't ans nn them tosls dnd don t tut d ther t  th them to lond ton themend ens tm ets th th themehst\n",
            "p eon sord to bus e wnsoep, won't ao m apepeonleitonether th aonlent tond wns won't ansinn them thsis and won t but a theo thath theo th bond ton theoens essiim ets th th theoekst\n",
            "p eon wont to lu ld wnwhep, won't er m apepeon'ento ether th ao lent dond wnd wun't ecsinn the  bosks dnd wonl, but d ther th ch them bo lond tor themdnd ess im ets th th theme st\n",
            "l lon wont to cu ld dndhep, don't ar m cplpeon'ecto ether t  co lent ton' wnd ton't ans nn them tosks and tonlt but d ther t  ch them to lont tor thercnd ens im ets th my themehst\n",
            "p aon wo t to bunld dnwhep, tontt ar m ap peonleito ether to co lect tond dnd tontt arsitn ther tosks and tonkt but d ther to th ther to bont ton thercnd ess im ets th oh therihat\n",
            "t aon wo t to bu ld anshep, don't ar m ap peonleito ether to co lect aond and don't arsitn ther toska and don , but a ther toach them to bont ton themand ess im etskth tf themehst\n",
            "t aon wont to busld anshep, won't ar m ap peonlento ether to co lect dond dnd won't ans fn them todks and won , but a ther toach them to bond ton the and ess im ets ty tf themehst\n",
            "l eon wond to busld wnship, won't ar m ap peonlesto ether to lo lent aond wnd won't ansign them tosks and won , but d ther to ch them to bond to  themend ess im etskty tf themeest\n",
            "l ton wond to butld anshep, don't ar m bp peon'ecto ether to co lect dond dnd won't ansign them todks and wonk, but d ther toach them to bond ton themend ess im etskty tf themeest\n",
            "l ton want to butld dnshep, do 't ar m ap peo 'ecto ether to co lect aond dnd won't acsign them tosks and won , but d ther thach them to bond ton themend e s sm etskty tf themeesc\n",
            "l aon wont to bu ld dnship, don't ar m ap peo leito ether t  co lect aond dnd won't arsign them tosks and wonk, but d ther toach them to bond ton themend essiim ets ty of themehsc\n",
            "g ton wont to lu ld dnshep, don't dr m dpspeodle to ether t  co lect dond dnd won't dnsign them tosks and wonk, dut d ther toach them to lond tor therendlessiim ets ty of therehsc\n",
            "g ton want to lu ld anship, don't ar m apsoeodlestonether to co lect aond dnd won't ansign them tosks and won , bug a ther toach them to lond tor the endless im ets tyaof the eesc\n",
            "g tor want to bu ld dnshep, ton't ar m ap peonlectonether to co lect dond dnd ton't ansign them tosks and ton , but a ther toach them to lond tor themendless sm etsktyaof themehst\n",
            "g tor want to bu ld anshep, won't ar m ap peo leito ether to co lect aond and don't ansign them tosks and donk, but a ther toach them to bond tor themendless im ets ty of the eesc\n",
            "g tor wont to lusld anwhip, won't ar m aplpeo leito ether to co lect aond and won't acsign them tosks and wonk, but a ther toach them to lond tor themend ess im ets ty of the ehst\n",
            "g tor want to bu ld anship, don't ar m aplpeo le to ether t  co lect aond and don't acsign them tosks and donk, dut a ther toach them to lond tor themendless im etsity of themehsc\n",
            "l tor wont to busld anship, don't ar m apspeo lectonether to co lect aond and don't ansign them tosks and wonkt but a ther toach them to lond ton the indless im etsity of the ihsn\n",
            "g ,or want to bu ld anwhep, don't ar m aplpeoplectonether to co lect aond and don't acsign them tosks and donk, but a ther toach them to cond tor themendless im ecskty of themeeac\n",
            "g ,or want to bu ld anwhip, don't ar m aplpeoglectonether to co lect aond and don't ansign them tosks and donk, but a ther toach them to lond tor the endless im ecskty of the ehac\n",
            "g ,or wart to lu ld anship, don't ar m ap peo lecto ether to co lect aond and don't ansign them tosks and donk, but a ther toach them to lond tor themendlessiim ecskty of the ehan\n",
            "g ,or wart to bu ld anship, don't ar m ap peoglectogether to co lect aord and don't ansign them tosks and dork, but w ther toach them to lond tor the endless im etsity of the thac\n",
            "g lor wart to lusld anship, don't ar m dp peoglecto ether to co lect wond and don't arsign them tosks and donk, but a ther toach them to lond tor themendless im etsity of the eesc\n",
            "g ,or wart to lu ld anship, won't ar m up people to ether to co lect wond and don't arsign them tosks and donk, but d ther toach them to lond tor themendless im etsity of the ehac\n",
            "g ,or want to lu ld anship, don't arum up peoplecto ether th co lect wond and won't acsign them tosks and wonk, but d ther thach them to lond tor the end ess im ensity of the eeuc\n",
            "g tor want to bu ld dnship, ton't ar m dp peoplecto ether to co lect wond dndlton't ansign them tosks andltonkt but w ther toach them to bont tor themtndless am etsity of toemthac\n",
            "goeer wart io cu ld anweip, ao 't er m ap aeo le ah ether th co ee t eord and won't ersign ther lo es end aork, aut aather thanh ther ao cendefor therend e aaim ecsity of thereaac\n",
            "g torpsont tostutld wosoep, tontt aorm bpspeoploctod ther tostonlout dond aod won't ausitndphdgstodks aud wonk, but aather toach ther tostond tor toersodlessitmnkosity of toerseat\n",
            "g don sont thstusgd wnship, son't dorm ap peoplocsop ther thsconlect aond sud ton't ansign thim tosks sud tonk, but aather thsnh thim tostond tor themendlessism eosity pf themehsn\n",
            "g aor word wo ku ld ardhip, aon't dr m ap  ,orle so ether thsco kect aond wrd won't wrsign them todks ard wonk, w t a them thanh them to kon' for themend ess im eoskth rn themehsn\n",
            "l bor wart ao bu ld arwhip, ao 't er m apspeorlecto ether th co lech aord ard won't ersign them bo ks a d wor , b f aather thach them bo bon' for themend esy im eos th of themehrc\n",
            "l lor wart bo bu ld anship, aon't ur m cplpeorle ao ether th co lect aond and wontt ucsign them to ks and won , but cather thach ther to cont tor therendlesy im etsity tf thereerc\n",
            "l lou wont do bu ld anihep, dn 't er m aolpen le to ethen te bo le t aond and ann't e fign then to ks and aon , lut u then teacn then to longetou thenend essiim ens ty tf teeneeat\n",
            "g tor want to lu ld anship, don't e  m eospeorle to ethen to co le t aond and don't e sign toem to ksiand don , but eithen toach thim to longetor themeod essiim ets ty tf toemeeat\n",
            "g sor word to lu ld andhip, don't d  m dpspeople to ethem to lo le t aord and don't d sign them to ksiand aor , but aathem toach them to lond tor themeodlessiim ets th tf themeert\n",
            "g sor word do busld sndhip, son't arrm apspeoplecto ether to to lect aord and aon't ansign themstosksiand aor , tut aather toach themsto longefor themeodlessiim ens th tf themehrt\n",
            "g sor word do busld andhip, won't arrm apspeoplecto ether to co lect aond and aon't acsign ther tosks and aonk, tut aather toach ther to longefor therendless im ecskty pf therehrt\n",
            "p wor word th bu ld wndhip, won't crum cpspeoplecto ether to co lact word wnd won't ccsign ther to ks ard work, bus rather toach ther to congefor therend ess im ecskpy pf therehrt\n",
            "p tor word th build wnship, won't crum upspeoplecto ether to co lect word wnd won't ccsign ther to ksiand work, but uather toach ther to bongefor therendless im ecskty tf thereert\n",
            "p bor wart to butld anshep, won't crum upspeo lecto ether to co lect aord dnd don't crsign ther to ksiand dork, but uather toach ther to bong for therendless im ecsity tf thereert\n",
            "t tor want to butld dnshep, don't arum uplpeo lecto ether to lo lect aond dnd don't arsign ther to ksiand donk, but uather toach ther to bong fon the endless im ecsity tf thereert\n",
            "t sor want to lutld dnship, don't ar m dplpeo lecto ether th lo lent dond dnd don't a s gn them to ksiand don , but uather toach them to long fon the endless im ensity tf the eesn\n",
            "t war want to lu ld anihip, don't ar m dp peo le to ether th co le t dond dnd don't a s gn them to ks and don , but dather thach the  to long fon the endless im ensity tf the eesn\n",
            "t war wart so lutld anship, don't ar m dp peo lecto ether th co le t dord and don't ass gn them to ks and dor , but dather thach them to long for themendless im ensity tf the eeac\n",
            "g war wart so butld anship, won't ar m dp peoglecto ether th co lest word and don't ass gn them to ks and dork, but dather thach them to long for themendless im ensity tf themeesn\n",
            "g war wart so build anship, won't arum up peoglecto ether th co lect word wnd won't arsign them to ks and work, but uather thach them to long forkthemendless im ecsity of themeesn\n",
            "g war wort wo build anship, won't drum up peoplecto ether th co lect word wnd aon't dssign them to ks and aork, but uather teach them to cong for themendless im ensity of themeesn\n",
            "g ,ar ward to build anship, won't arum up peoplecto  ther te co lect word and aon't ansign them to ks and aork, but uather teach them to cong for the endless im ensity of themeesn\n",
            "g ,ar wart to build anship, don't arum up peoplento ether te co lent dord and aon't ansign them to ks and aork, but uather teach them to long for themendless im ensity of themeesn\n",
            "g tor wart to luild anship, don't arum up peoplecto ether te co lest dord and don't assign them to ks and aork, but uather teach them to cong for themendless im ensity of themeean\n",
            "g tor wort to luild anship, don't arum up peoplecto ether to co lest word and won't assign them to ks and dork, but uather toach them to long for the endless im ensity of the eean\n",
            "g tor wort to build anship, don't arum rp peoplento ether to co lent word and don't a sign them to ks and aork, but rather toach them to long for the endless im ensity of the eean\n",
            "g tor wart to build anship, ton't arum rp peoplento ether to co lent word and don't arsign them to ks and aork, bui rather toach them to long for the endless im ensity of the eean\n",
            "g tor wart to build anship, won't arum rp peoplecto ether to co lect wood and won't arsign them to ks and aork, but rather toach them to long for the endless im ensity of the eean\n",
            "g , r wart to build anship, won't arum rp peoplectogether to co lect word and won't arsign them tosks and work, but rather toach them to long for the endless im ensity of the eeac\n",
            "g , r wart to butld anship, won't arum rp peoplectogether to co lect word and won't assign them tosks and work, but rather toach them to long for the endless im ensity of the eeac\n",
            "p t r wart to butld anship, won't arum up peoplectogether to co lect wood and won't assign them tosks and dork, but uather toach them ta long for the endless im ensity of the eeac\n",
            "p tor wart to build anship, don't arum up peoplecto ether to co lect doud and won't assign them tasks and aork, but uather toach them ta long for the endless im ensity of the eeac\n",
            "p tor wart to build anship, don't arum up peoplecto ether to co lect doud and won't assign them tasks and aork, but uather toach them ta long for the endless im ensity of the eeac\n"
          ]
        }
      ]
    }
  ]
}