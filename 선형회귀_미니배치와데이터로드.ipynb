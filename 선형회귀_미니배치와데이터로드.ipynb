{
  "nbformat": 4,
  "nbformat_minor": 0,
  "metadata": {
    "colab": {
      "provenance": [],
      "authorship_tag": "ABX9TyP2KpLhSlaboxGvIT86sYcn",
      "include_colab_link": true
    },
    "kernelspec": {
      "name": "python3",
      "display_name": "Python 3"
    },
    "language_info": {
      "name": "python"
    }
  },
  "cells": [
    {
      "cell_type": "markdown",
      "metadata": {
        "id": "view-in-github",
        "colab_type": "text"
      },
      "source": [
        "<a href=\"https://colab.research.google.com/github/JeongHunShin91/pytorch_training/blob/main/%EC%84%A0%ED%98%95%ED%9A%8C%EA%B7%80_%EB%AF%B8%EB%8B%88%EB%B0%B0%EC%B9%98%EC%99%80%EB%8D%B0%EC%9D%B4%ED%84%B0%EB%A1%9C%EB%93%9C.ipynb\" target=\"_parent\"><img src=\"https://colab.research.google.com/assets/colab-badge.svg\" alt=\"Open In Colab\"/></a>"
      ]
    },
    {
      "cell_type": "code",
      "execution_count": 2,
      "metadata": {
        "id": "qZidDv2b9aPu"
      },
      "outputs": [],
      "source": [
        "import torch\n",
        "import torch.nn as nn\n",
        "import torch.nn.functional as F"
      ]
    },
    {
      "cell_type": "code",
      "source": [
        "from torch.utils.data import TensorDataset # 텐서데이터셋\n",
        "from torch.utils.data import DataLoader # 데이터로더"
      ],
      "metadata": {
        "id": "M_E7hjGt9fmP"
      },
      "execution_count": 3,
      "outputs": []
    },
    {
      "cell_type": "code",
      "source": [
        "x_train  =  torch.FloatTensor([[73,  80,  75], \n",
        "                               [93,  88,  93], \n",
        "                               [89,  91,  90], \n",
        "                               [96,  98,  100],   \n",
        "                               [73,  66,  70]])  \n",
        "y_train  =  torch.FloatTensor([[152],  [185],  [180],  [196],  [142]])"
      ],
      "metadata": {
        "id": "0QY9a1Yb9fu9"
      },
      "execution_count": 4,
      "outputs": []
    },
    {
      "cell_type": "code",
      "source": [
        "dataset = TensorDataset(x_train, y_train)"
      ],
      "metadata": {
        "colab": {
          "base_uri": "https://localhost:8080/"
        },
        "id": "h0dnE1UF9f3k",
        "outputId": "5076acee-0e87-4a39-9f6e-22f70de7bc6e"
      },
      "execution_count": 7,
      "outputs": [
        {
          "output_type": "stream",
          "name": "stdout",
          "text": [
            "<torch.utils.data.dataset.TensorDataset object at 0x7f476914e1d0>\n"
          ]
        }
      ]
    },
    {
      "cell_type": "code",
      "source": [
        "dataloader = DataLoader(dataset, batch_size=2, shuffle=True)"
      ],
      "metadata": {
        "id": "E0osMkou9f-q"
      },
      "execution_count": 6,
      "outputs": []
    },
    {
      "cell_type": "code",
      "source": [
        "model = nn.Linear(3,1)\n",
        "optimizer = torch.optim.SGD(model.parameters(), lr=1e-5) "
      ],
      "metadata": {
        "id": "dTYDQkoP9gF1"
      },
      "execution_count": 8,
      "outputs": []
    },
    {
      "cell_type": "code",
      "source": [
        "nb_epochs = 20\n",
        "for epoch in range(nb_epochs + 1):\n",
        "  for batch_idx, samples in enumerate(dataloader):\n",
        "    # print(batch_idx)\n",
        "    # print(samples)\n",
        "    x_train, y_train = samples\n",
        "    # H(x) 계산\n",
        "    prediction = model(x_train)\n",
        "\n",
        "    # cost 계산\n",
        "    cost = F.mse_loss(prediction, y_train)\n",
        "\n",
        "    # cost로 H(x) 계산\n",
        "    optimizer.zero_grad()\n",
        "    cost.backward()\n",
        "    optimizer.step()\n",
        "\n",
        "    print('Epoch {:4d}/{} Batch {}/{} Cost: {:.6f}'.format(\n",
        "        epoch, nb_epochs, batch_idx+1, len(dataloader),\n",
        "        cost.item()\n",
        "        ))"
      ],
      "metadata": {
        "colab": {
          "base_uri": "https://localhost:8080/"
        },
        "id": "pRr1A3uQ9gMo",
        "outputId": "f4d0664e-adac-4d7b-dce8-cff36bc5e433"
      },
      "execution_count": 9,
      "outputs": [
        {
          "output_type": "stream",
          "name": "stdout",
          "text": [
            "Epoch    0/20 Batch 1/3 Cost: 10281.082031\n",
            "Epoch    0/20 Batch 2/3 Cost: 2789.700195\n",
            "Epoch    0/20 Batch 3/3 Cost: 1466.240479\n",
            "Epoch    1/20 Batch 1/3 Cost: 261.825287\n",
            "Epoch    1/20 Batch 2/3 Cost: 80.844894\n",
            "Epoch    1/20 Batch 3/3 Cost: 13.382004\n",
            "Epoch    2/20 Batch 1/3 Cost: 36.474155\n",
            "Epoch    2/20 Batch 2/3 Cost: 0.675140\n",
            "Epoch    2/20 Batch 3/3 Cost: 2.672060\n",
            "Epoch    3/20 Batch 1/3 Cost: 0.610303\n",
            "Epoch    3/20 Batch 2/3 Cost: 13.091759\n",
            "Epoch    3/20 Batch 3/3 Cost: 11.570233\n",
            "Epoch    4/20 Batch 1/3 Cost: 5.828248\n",
            "Epoch    4/20 Batch 2/3 Cost: 11.957144\n",
            "Epoch    4/20 Batch 3/3 Cost: 12.015824\n",
            "Epoch    5/20 Batch 1/3 Cost: 8.075656\n",
            "Epoch    5/20 Batch 2/3 Cost: 5.105035\n",
            "Epoch    5/20 Batch 3/3 Cost: 11.933031\n",
            "Epoch    6/20 Batch 1/3 Cost: 6.727345\n",
            "Epoch    6/20 Batch 2/3 Cost: 7.549267\n",
            "Epoch    6/20 Batch 3/3 Cost: 3.931509\n",
            "Epoch    7/20 Batch 1/3 Cost: 8.151481\n",
            "Epoch    7/20 Batch 2/3 Cost: 6.455579\n",
            "Epoch    7/20 Batch 3/3 Cost: 3.277528\n",
            "Epoch    8/20 Batch 1/3 Cost: 10.646417\n",
            "Epoch    8/20 Batch 2/3 Cost: 4.845886\n",
            "Epoch    8/20 Batch 3/3 Cost: 2.997586\n",
            "Epoch    9/20 Batch 1/3 Cost: 1.968036\n",
            "Epoch    9/20 Batch 2/3 Cost: 7.866520\n",
            "Epoch    9/20 Batch 3/3 Cost: 15.409962\n",
            "Epoch   10/20 Batch 1/3 Cost: 4.953796\n",
            "Epoch   10/20 Batch 2/3 Cost: 14.325679\n",
            "Epoch   10/20 Batch 3/3 Cost: 3.710338\n",
            "Epoch   11/20 Batch 1/3 Cost: 14.166988\n",
            "Epoch   11/20 Batch 2/3 Cost: 5.819102\n",
            "Epoch   11/20 Batch 3/3 Cost: 4.915000\n",
            "Epoch   12/20 Batch 1/3 Cost: 10.519402\n",
            "Epoch   12/20 Batch 2/3 Cost: 5.144313\n",
            "Epoch   12/20 Batch 3/3 Cost: 6.345500\n",
            "Epoch   13/20 Batch 1/3 Cost: 1.472428\n",
            "Epoch   13/20 Batch 2/3 Cost: 11.333342\n",
            "Epoch   13/20 Batch 3/3 Cost: 9.853177\n",
            "Epoch   14/20 Batch 1/3 Cost: 6.351261\n",
            "Epoch   14/20 Batch 2/3 Cost: 6.641836\n",
            "Epoch   14/20 Batch 3/3 Cost: 13.290061\n",
            "Epoch   15/20 Batch 1/3 Cost: 11.136164\n",
            "Epoch   15/20 Batch 2/3 Cost: 4.554749\n",
            "Epoch   15/20 Batch 3/3 Cost: 11.970801\n",
            "Epoch   16/20 Batch 1/3 Cost: 8.170372\n",
            "Epoch   16/20 Batch 2/3 Cost: 8.898936\n",
            "Epoch   16/20 Batch 3/3 Cost: 7.665064\n",
            "Epoch   17/20 Batch 1/3 Cost: 6.980570\n",
            "Epoch   17/20 Batch 2/3 Cost: 7.472255\n",
            "Epoch   17/20 Batch 3/3 Cost: 4.297890\n",
            "Epoch   18/20 Batch 1/3 Cost: 7.914981\n",
            "Epoch   18/20 Batch 2/3 Cost: 4.988267\n",
            "Epoch   18/20 Batch 3/3 Cost: 11.681154\n",
            "Epoch   19/20 Batch 1/3 Cost: 5.577311\n",
            "Epoch   19/20 Batch 2/3 Cost: 9.877841\n",
            "Epoch   19/20 Batch 3/3 Cost: 6.951561\n",
            "Epoch   20/20 Batch 1/3 Cost: 10.437309\n",
            "Epoch   20/20 Batch 2/3 Cost: 11.235924\n",
            "Epoch   20/20 Batch 3/3 Cost: 6.291037\n"
          ]
        }
      ]
    },
    {
      "cell_type": "code",
      "source": [
        "# 임의의 입력 [73, 80, 75]를 선언\n",
        "new_var =  torch.FloatTensor([[73, 80, 75]]) \n",
        "# 입력한 값 [73, 80, 75]에 대해서 예측값 y를 리턴받아서 pred_y에 저장\n",
        "pred_y = model(new_var) \n",
        "print(\"훈련 후 입력이 73, 80, 75일 때의 예측값 :\", pred_y) "
      ],
      "metadata": {
        "colab": {
          "base_uri": "https://localhost:8080/"
        },
        "id": "J-wLiCoi9gTS",
        "outputId": "a47ef4e6-9b19-4c09-ccdc-e6858c5e370d"
      },
      "execution_count": 10,
      "outputs": [
        {
          "output_type": "stream",
          "name": "stdout",
          "text": [
            "훈련 후 입력이 73, 80, 75일 때의 예측값 : tensor([[154.4126]], grad_fn=<AddmmBackward0>)\n"
          ]
        }
      ]
    },
    {
      "cell_type": "code",
      "source": [],
      "metadata": {
        "id": "amCzT71wBovN"
      },
      "execution_count": null,
      "outputs": []
    }
  ]
}